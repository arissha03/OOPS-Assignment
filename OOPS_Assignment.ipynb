{
  "nbformat": 4,
  "nbformat_minor": 0,
  "metadata": {
    "colab": {
      "provenance": []
    },
    "kernelspec": {
      "name": "python3",
      "display_name": "Python 3"
    },
    "language_info": {
      "name": "python"
    }
  },
  "cells": [
    {
      "cell_type": "markdown",
      "source": [
        "Q.1 . What are the five key concepts of Object-Oriented Programming (OOP)?\n",
        "\n",
        "\n",
        "---\n",
        "Ans :-** The five key concepts of Object-Oriented Programming (OOP) in Python are :-.\n",
        "        \"1.  **Class:** Class is defined as a blueprint for creating objects. It defines the attributes (data) and methods (functions) that the objects created from the class will have. For example, a Car class might have attributes like color and model, and methods like start() and stop().\n",
        "    .\n",
        "        \"2.  **Object:** Objects are an instance of a class. When a class is defined, no memory is allocated until an object is created from it. Objects hold the actual data and the functionality that is defined in the class..\n",
        "    .\n",
        "        \"3.  **Encapsulation:** Encapsulation is the practice of hiding the internal state and functionality of an object and only exposing a limited interface. In Python, encapsulation is achieved through access modifiers like public, private, and protected attributes or methods (e.g., prefixing with underscores).\n",
        "    .\n",
        "        \"4.  **Inheritance:** It is a mechanism for creating a new class that reuses, extends, or modifies the behavior of an existing class. The new class (called a child or subclass) inherits the properties and methods of the parent class..\n",
        "    .\n",
        "        \"5.  **Polymorphism:** The ability to use a common interface for different data types. It allows objects of different classes to be treated as objects of a common super class. In Python, this is often used with method overriding and operator overloading..\n",
        "    .\n",
        "        \"These core concepts help in designing flexible, reusable, and organized code using OOP principles.\"\n",
        "      \n",
        "\n"
      ],
      "metadata": {
        "id": "q5Um-v7vWz45"
      }
    },
    {
      "cell_type": "markdown",
      "source": [
        "Q.2 Write a Python class for a `Car` with attributes for `make`, `model`, and `year`. Include a method to display the car's information"
      ],
      "metadata": {
        "id": "1WpudYZ5XQrq"
      }
    },
    {
      "cell_type": "code",
      "source": [
        "class Car:\n",
        "    def __init__(self, make, model, year):\n",
        "        self.make = make  # Initialize make attribute\n",
        "        self.model = model\n",
        "        self.year = year\n",
        "\n",
        "    def display_info(self):\n",
        "        print(f\"Make: {self.make}\")  # Use f-strings for proper formatting\n",
        "        print(f\"Model: {self.model}\")\n",
        "        print(f\"Year: {self.year}\")\n",
        "\n",
        "# Example usage\n",
        "my_car = Car(\"Toyota\", \"Camry\", 2023)\n",
        "my_car.display_info()"
      ],
      "metadata": {
        "colab": {
          "base_uri": "https://localhost:8080/"
        },
        "id": "ltglIZl7XS3Y",
        "outputId": "2fd86e33-9823-47d8-bf2f-6ccf4f3116dd"
      },
      "execution_count": 15,
      "outputs": [
        {
          "output_type": "stream",
          "name": "stdout",
          "text": [
            "Make: Toyota\n",
            "Model: Camry\n",
            "Year: 2023\n"
          ]
        }
      ]
    },
    {
      "cell_type": "markdown",
      "source": [
        "Q.3 Explain the difference between instance methods and class methods. Provide an example of each.\n",
        "\n",
        "---\n",
        "Instance Methods vs. Class Methods in Python\n",
        "**Instance Methods**\n",
        "\n",
        "Definition: Instance methods are the most common type of method in a class. They operate on an instance of the class (i.e., an object) and have access to instance variables and methods.\n",
        "Usage: These methods require an instance of the class to be called and typically work with instance attributes.\n",
        "Self Parameter: Instance methods take the first parameter, self, which refers to the instance calling the method.\n",
        "**Class Methods**\n",
        "\n",
        "Definition: Class methods operate on the class itself rather than on instances. They are often used to modify or access class-level data.\n",
        "Usage: These methods work with class variables and do not depend on instance-specific data. They can be called on the class itself or on an instance of the class.\n",
        "Cls Parameter: Class methods take cls as the first parameter, which refers to the class, not the instance.\n",
        "Decorator: Class methods are marked with the @classmethod decorator.\n",
        "Key Differences\n",
        "Instance methods are called on an instance and can access and modify instance-specific data.\n",
        "Class methods are called on the class and deal with class-level data, using the @classmethod decorator.\n"
      ],
      "metadata": {
        "id": "Ml8-5dygZOqE"
      }
    },
    {
      "cell_type": "code",
      "source": [
        "#Example of an Instance Method\n",
        "class Car:\n",
        "\n",
        "    def __init__(self, make, model, year):\n",
        "        self.make = make\n",
        "        self.model = model\n",
        "        self.year = year\n",
        "\n",
        "    # Instance method\n",
        "    def display_info(self):\n",
        "        print(f\"Car Information: {self.year} {self.make} {self.model}\")\n",
        "\n",
        "# Creating an instance of Car\n",
        "my_car = Car(\"Toyota\", \"Corolla\", 2020)\n",
        "my_car.display_info()  # Calls the instance method\n",
        "#Example of a Class Method\n",
        "class Car:\n",
        "    # Class attribute\n",
        "    total_cars = 0\n",
        "\n",
        "    def __init__(self, make, model, year):\n",
        "        self.make = make\n",
        "        self.model = model\n",
        "        self.year = year\n",
        "        Car.total_cars += 1\n",
        "\n",
        "    # Instance method\n",
        "    def display_info(self):\n",
        "        print(f\"Car Information: {self.year} {self.make} {self.model}\")\n",
        "\n",
        "    # Class method\n",
        "    @classmethod\n",
        "    def total_car_count(cls):\n",
        "        print(f\"Total cars created: {cls.total_cars}\")\n",
        "\n",
        "# Creating instances of Car\n",
        "car1 = Car(\"Toyota\", \"Corolla\", 2020)\n",
        "car2 = Car(\"Honda\", \"Civic\", 2021)\n",
        "\n",
        "# Calling class method on the class\n",
        "Car.total_car_count()\n",
        "\n",
        "# Calling class method on an instance\n",
        "car1.total_car_count()\n",
        "\n",
        "# In this example, display_info() is an instance method that shows specific car details,\n",
        "# while total_car_count() is a class method that operates on class-level data (tracking the number of cars created)."
      ],
      "metadata": {
        "colab": {
          "base_uri": "https://localhost:8080/"
        },
        "id": "zpgfmYZdYn0L",
        "outputId": "7c17a2fc-424e-4509-ebc0-be13a053cff8"
      },
      "execution_count": 17,
      "outputs": [
        {
          "output_type": "stream",
          "name": "stdout",
          "text": [
            "Car Information: 2020 Toyota Corolla\n",
            "Total cars created: 2\n",
            "Total cars created: 2\n"
          ]
        }
      ]
    },
    {
      "cell_type": "markdown",
      "source": [
        "4. How does Python implement method overloading? Give an example.\n",
        "Python does not support method overloading in the traditional sense, as\n",
        "seen in languages like Java or C++. In those languages, multiple methods can be defined with the same name but different parameter types or counts, allowing the appropriate method to be called based on the arguments passed.\n",
        "\n",
        "In Python, functions are distinguished by their name only, not by their parameters. If we define multiple methods with the same name, the last definition will override the previous ones.\n",
        "\n",
        "How to Achieve Method Overloading in Python\n",
        "Python achieves a similar effect to method overloading using techniques such as:\n",
        "\n",
        "Default arguments: Setting default values for parameters.\n",
        "Variable-length arguments: Using *args or **kwargs to accept any number of arguments.\n",
        "Type-checking within the method: Manually inspecting the arguments inside the method.\n",
        "Example\n",
        "Here’s an example demonstrating these concepts:\n",
        "\n",
        "python\n",
        "Copy code\n",
        "class Example:\n",
        "    def add(self, a, b=0):\n",
        "        return a + b\n",
        "\n",
        "    def add_multiple(self, *args):\n",
        "        return sum(args)\n",
        "\n",
        "# Creating an instance\n",
        "example = Example()\n",
        "\n",
        "# Using default arguments\n",
        "print(example.add(5))          # Output: 5\n",
        "print(example.add(5, 10))      # Output: 15\n",
        "\n",
        "# Using variable-length arguments\n",
        "print(example.add_multiple(1, 2, 3))  # Output: 6\n",
        "print(example.add_multiple(1, 2, 3, 4, 5))  # Output: 15\n",
        "Conclusion:\n",
        "While Python doesn't have native method overloading, similar functionality can be achieved using default arguments, *args, **kwargs, or manual type-checking within the method to differentiate behavior based on the arguments provided."
      ],
      "metadata": {
        "id": "aLvReboCawKC"
      }
    },
    {
      "cell_type": "code",
      "source": [
        "class Calculator:\n",
        "    # Method that accepts a variable number of arguments\n",
        "    def add(self, *args):\n",
        "        # If no arguments, return 0\n",
        "        if not args:\n",
        "            return 0\n",
        "        # Sum all provided arguments\n",
        "        return sum(args)\n",
        "\n",
        "# Example usage\n",
        "calc = Calculator()\n",
        "\n",
        "# Different ways to call the same 'add' method\n",
        "print(calc.add())          # Output: 0 (no arguments)\n",
        "print(calc.add(10))        # Output: 10 (one argument)\n",
        "print(calc.add(10, 20))    # Output: 30 (two arguments)\n",
        "print(calc.add(1, 2, 3, 4)) # Output: 10 (multiple arguments)\n",
        "\n",
        "# In this example:\n",
        "# - The add method can accept a variable number of arguments using *args.\n",
        "# - The method checks the number of arguments and handles them accordingly.\n",
        "# Example Using Type-Checking for Overloading Behavior\n",
        "class Calculator:\n",
        "    # Method that checks the type and number of arguments\n",
        "    def add(self, a, b=None):\n",
        "        # If only one argument is provided\n",
        "        if b is None:\n",
        "            return a\n",
        "        # If two arguments are provided\n",
        "        else:\n",
        "            return a + b\n",
        "\n",
        "# Example usage\n",
        "calc = Calculator()\n",
        "\n",
        "print(calc.add(10))         # Output: 10 (only one argument)\n",
        "print(calc.add(10, 20))     # Output: 30 (two arguments)\n",
        "\n",
        "# In this example:\n",
        "# - The add method can behave differently based on the number of arguments provided.\n",
        "# - It checks if the second argument b is None, implying only one argument was passed."
      ],
      "metadata": {
        "colab": {
          "base_uri": "https://localhost:8080/"
        },
        "id": "9XIHmc8mZ6j7",
        "outputId": "6e2ccf6b-740a-4062-d8a0-fc5d72b3d0cb"
      },
      "execution_count": 19,
      "outputs": [
        {
          "output_type": "stream",
          "name": "stdout",
          "text": [
            "0\n",
            "10\n",
            "30\n",
            "10\n",
            "10\n",
            "30\n"
          ]
        }
      ]
    },
    {
      "cell_type": "markdown",
      "source": [
        "5. What are the three types of access modifiers in Python? How are they denoted?\n",
        "\n",
        "---\n",
        "\n",
        "In Python, access modifiers are used to control access to class attributes and methods. There are three types of access modifiers:\n",
        "\n",
        "1. Public\n",
        "Definition: Public members are accessible from anywhere in the program, both inside and outside the class.\n",
        "\n",
        "Denotation: Public attributes and methods are defined normally, without any special prefix.\n",
        "2. Protected\n",
        "Definition: Protected members are intended to be accessible only within the class and its subclasses. They should not be accessed directly from outside the class.\n",
        "\n",
        "Denotation: Protected attributes and methods are prefixed with a single underscore (_).\n",
        "3. Private\n",
        "Definition: Private members are intended to be accessible only within the class in which they are defined. They cannot be accessed from outside the class or its subclasses.\n",
        "\n",
        "Denotation: Private attributes and methods are prefixed with a double underscore (__).\n",
        "\n"
      ],
      "metadata": {
        "id": "HMH8SiTncDzI"
      }
    },
    {
      "cell_type": "code",
      "source": [
        "\n",
        "\n",
        "#Example on Public Definition\n",
        "class Example:\n",
        "    def __init__(self):\n",
        "        self.public_var = \"I am public\"\n",
        "\n",
        "obj = Example()\n",
        "print(obj.public_var)  # Accessible\n",
        "#Example on Protected Definition\n",
        "\n",
        "class Example:\n",
        "    def __init__(self):\n",
        "        self._protected_var = \"I am protected\"\n",
        "\n",
        "obj = Example()\n",
        "print(obj._protected_var)  # Accessible, but not recommended\n",
        "# Example on Private Definition\n",
        "\n",
        "class Example:\n",
        "    def __init__(self):\n",
        "        self.__private_var = \"I am private\"\n",
        "\n",
        "    def get_private_var(self):\n",
        "        return self.__private_var\n",
        "\n",
        "obj = Example()\n",
        "# print(obj.__private_var)  # Raises an AttributeError\n",
        "print(obj.get_private_var())  # Accessible through a public method"
      ],
      "metadata": {
        "colab": {
          "base_uri": "https://localhost:8080/"
        },
        "id": "Wzf7Z8h9bQcJ",
        "outputId": "f832bd3e-bd6c-4aad-dc11-dbccfc859a67"
      },
      "execution_count": 20,
      "outputs": [
        {
          "output_type": "stream",
          "name": "stdout",
          "text": [
            "I am public\n",
            "I am protected\n",
            "I am private\n"
          ]
        }
      ]
    },
    {
      "cell_type": "markdown",
      "source": [
        "6. Describe the five types of inheritance in Python. Provide a simple example of multiple inheritance\n",
        "\n",
        "---\n",
        "1.Single Inheritance: One subclass inherits from one superclass.\n",
        "2.Multiple Inheritance: One subclass inherits from multiple superclasses.\n",
        "3.Multilevel Inheritance: A chain of inheritance.\n",
        "4.Hierarchical Inheritance: Multiple subclasses inherit from one superclass.\n",
        "5.Hybrid Inheritance: A combination of different inheritance types.\n"
      ],
      "metadata": {
        "id": "U0KcHvZzc6_X"
      }
    },
    {
      "cell_type": "code",
      "source": [
        "#Example on Single Inheritance\n",
        "class Parent:\n",
        "    def greet(self):\n",
        "        return \"Hello from Parent!\"\n",
        "\n",
        "class Child(Parent):\n",
        "    pass\n",
        "\n",
        "child = Child()\n",
        "print(child.greet())\n",
        "#Example on Multiple Inheritance\n",
        "class A:\n",
        "    def method_a(self):\n",
        "        return \"Method A\"\n",
        "\n",
        "class B:\n",
        "    def method_b(self):\n",
        "        return \"Method B\"\n",
        "\n",
        "class C(A, B):\n",
        "    pass\n",
        "\n",
        "obj = C()\n",
        "print(obj.method_a())\n",
        "print(obj.method_b())\n",
        "#Example on Multilevel Inheritance:\n",
        "class Grandparent:\n",
        "    def greet(self):\n",
        "        return \"Hello from Grandparent!\"\n",
        "\n",
        "class Parent(Grandparent):\n",
        "    pass\n",
        "\n",
        "class Child(Parent):\n",
        "    pass\n",
        "\n",
        "child = Child()\n",
        "print(child.greet())\n",
        "#Example on Hierarchical Inheritance\n",
        "class Shape:\n",
        "    def area(self):\n",
        "        pass\n",
        "\n",
        "class Circle(Shape):\n",
        "    def area(self, radius):\n",
        "        return 3.14 * radius ** 2\n",
        "\n",
        "class Rectangle(Shape):\n",
        "    def area(self, length, width):\n",
        "        return length * width\n",
        "\n",
        "circle = Circle()\n",
        "print(circle.area(5))\n",
        "rectangle = Rectangle()\n",
        "print(rectangle.area(4, 6))\n",
        "#Example on Hybrid Inheritance\n",
        "class Parent:\n",
        "    def greet(self):\n",
        "        return \"Hello from Parent!\"\n",
        "\n",
        "class Child1(Parent):\n",
        "    pass\n",
        "\n",
        "class Child2(Parent):\n",
        "    pass\n",
        "\n",
        "class Grandchild(Child1, Child2):\n",
        "    pass\n",
        "\n",
        "grandchild = Grandchild()\n",
        "print(grandchild.greet())\n"
      ],
      "metadata": {
        "colab": {
          "base_uri": "https://localhost:8080/"
        },
        "id": "sMg41I5EcwJk",
        "outputId": "f088f7bc-d478-40e0-af94-aba9dca5f60d"
      },
      "execution_count": 22,
      "outputs": [
        {
          "output_type": "stream",
          "name": "stdout",
          "text": [
            "Hello from Parent!\n",
            "Method A\n",
            "Method B\n",
            "Hello from Grandparent!\n",
            "78.5\n",
            "24\n",
            "Hello from Parent!\n"
          ]
        }
      ]
    },
    {
      "cell_type": "markdown",
      "source": [
        "7. What is the Method Resolution Order (MRO) in Python? How can you retrieve it programmatically?\n",
        "\n",
        "---\n",
        "Method Resolution Order (MRO) in Python\n",
        "Method Resolution Order (MRO) is a mechanism in Python that determines the order in which base classes are searched when calling a method on an object. This is especially important in the context of multiple inheritance, where a class may inherit from multiple parents, and it needs to resolve which method to call.\n",
        "\n",
        "Python uses the C3 linearization algorithm to compute the MRO. This ensures a consistent and predictable method resolution order, taking into account the order of inheritance and the order of classes in the hierarchy.\n",
        "\n",
        "How MRO Works\n",
        "Single Inheritance: The MRO is straightforward; it follows the single superclass chain.\n",
        "Multiple Inheritance: The MRO takes into account the order in which classes are listed and the hierarchy of classes, ensuring that a class's base classes are called in a specific order.\n",
        "Retrieving the MRO Programmatically\n",
        "You can retrieve the MRO of a class using the built-in mro() method or the __mro__ attribute.\n"
      ],
      "metadata": {
        "id": "jkn-GRT3egIV"
      }
    },
    {
      "cell_type": "code",
      "source": [
        "class A:\n",
        "    pass\n",
        "\n",
        "class B(A):\n",
        "    pass\n",
        "\n",
        "class C(A):\n",
        "    pass\n",
        "\n",
        "class D(B, C):\n",
        "    pass\n",
        "\n",
        "# Using mro() method\n",
        "print(D.mro())\n",
        "\n",
        "# Using __mro__ attribute\n",
        "print(D.__mro__)\n"
      ],
      "metadata": {
        "colab": {
          "base_uri": "https://localhost:8080/"
        },
        "id": "eW9kR-UxeEEK",
        "outputId": "933ecfe0-2171-4c1c-ca84-d9acc5cad55e"
      },
      "execution_count": 23,
      "outputs": [
        {
          "output_type": "stream",
          "name": "stdout",
          "text": [
            "[<class '__main__.D'>, <class '__main__.B'>, <class '__main__.C'>, <class '__main__.A'>, <class 'object'>]\n",
            "(<class '__main__.D'>, <class '__main__.B'>, <class '__main__.C'>, <class '__main__.A'>, <class 'object'>)\n"
          ]
        }
      ]
    },
    {
      "cell_type": "markdown",
      "source": [
        "8. Create an abstract base class `Shape` with an abstract method `area()`. Then create two subclasses\n",
        "`Circle` and `Rectangle` that implement the `area()` method.\n",
        "\n",
        "---\n",
        "\n"
      ],
      "metadata": {
        "id": "b9THblPZfBAq"
      }
    },
    {
      "cell_type": "code",
      "source": [
        "from abc import ABC, abstractmethod\n",
        "import math\n",
        "\n",
        "# Abstract base class\n",
        "class Shape(ABC):\n",
        "    @abstractmethod\n",
        "    def area(self):\n",
        "        pass\n",
        "\n",
        "# Subclass for Circle\n",
        "class Circle(Shape):\n",
        "    def __init__(self, radius):\n",
        "        self.radius = radius\n",
        "\n",
        "    def area(self):\n",
        "        return math.pi * (self.radius ** 2)\n",
        "\n",
        "# Subclass for Rectangle\n",
        "class Rectangle(Shape):\n",
        "    def __init__(self, width, height):\n",
        "        self.width = width\n",
        "        self.height = height\n",
        "\n",
        "    def area(self):\n",
        "        return self.width * self.height\n",
        "\n",
        "# Example usage\n",
        "circle = Circle(5)\n",
        "rectangle = Rectangle(4, 6)\n",
        "\n",
        "print(f\"Area of Circle: {circle.area():.2f}\")\n",
        "print(f\"Area of Rectangle: {rectangle.area():.2f}\")\n"
      ],
      "metadata": {
        "colab": {
          "base_uri": "https://localhost:8080/"
        },
        "id": "90znk4Iweufv",
        "outputId": "551ed593-ad09-4d1f-efa2-6bfdd4390899"
      },
      "execution_count": 24,
      "outputs": [
        {
          "output_type": "stream",
          "name": "stdout",
          "text": [
            "Area of Circle: 78.54\n",
            "Area of Rectangle: 24.00\n"
          ]
        }
      ]
    },
    {
      "cell_type": "markdown",
      "source": [
        "9. Demonstrate polymorphism by creating a function that can work with different shape objects to calculate\n",
        "and print their areas.\n",
        "\n",
        "---\n",
        "\n"
      ],
      "metadata": {
        "id": "8WzlDm4rhTIt"
      }
    },
    {
      "cell_type": "code",
      "source": [
        "from abc import ABC, abstractmethod\n",
        "import math\n",
        "\n",
        "# Abstract base class\n",
        "class Shape(ABC):\n",
        "    @abstractmethod\n",
        "    def area(self):\n",
        "        pass\n",
        "\n",
        "# Subclass for Circle\n",
        "class Circle(Shape):\n",
        "    def __init__(self, radius):\n",
        "        self.radius = radius\n",
        "\n",
        "    def area(self):\n",
        "        return math.pi * (self.radius ** 2)\n",
        "\n",
        "# Subclass for Rectangle\n",
        "class Rectangle(Shape):\n",
        "    def __init__(self, width, height):\n",
        "        self.width = width\n",
        "        self.height = height\n",
        "\n",
        "    def area(self):\n",
        "        return self.width * self.height\n",
        "\n",
        "# Function to calculate and print area\n",
        "def print_area(shape: Shape):\n",
        "    print(f\"Area: {shape.area():.2f}\")\n",
        "\n",
        "# Example usage\n",
        "circle = Circle(5)\n",
        "rectangle = Rectangle(4, 6)\n",
        "\n",
        "print_area(circle)\n",
        "print_area(rectangle)\n"
      ],
      "metadata": {
        "colab": {
          "base_uri": "https://localhost:8080/"
        },
        "id": "7mNndSJvhSzN",
        "outputId": "b82f4d81-692b-465b-aa3b-42ee9857f360"
      },
      "execution_count": 25,
      "outputs": [
        {
          "output_type": "stream",
          "name": "stdout",
          "text": [
            "Area: 78.54\n",
            "Area: 24.00\n"
          ]
        }
      ]
    },
    {
      "cell_type": "markdown",
      "source": [
        "10. Implement encapsulation in a `BankAccount` class with private attributes for `balance` and\n",
        "`account_number`. Include methods for deposit, withdrawal, and balance inquiry."
      ],
      "metadata": {
        "id": "723MlTVChlNV"
      }
    },
    {
      "cell_type": "code",
      "source": [
        "class BankAccount:\n",
        "    def __init__(self, account_number, initial_balance=0):\n",
        "        self.__account_number = account_number  # Private attribute\n",
        "        self.__balance = initial_balance          # Private attribute\n",
        "\n",
        "    def deposit(self, amount):\n",
        "        if amount > 0:\n",
        "            self.__balance += amount\n",
        "            print(f\"Deposited: ${amount:.2f}. New balance: ${self.__balance:.2f}.\")\n",
        "        else:\n",
        "            print(\"Deposit amount must be positive.\")\n",
        "\n",
        "    def withdraw(self, amount):\n",
        "        if 0 < amount <= self.__balance:\n",
        "            self.__balance -= amount\n",
        "            print(f\"Withdrew: ${amount:.2f}. New balance: ${self.__balance:.2f}.\")\n",
        "        else:\n",
        "            print(\"Insufficient funds or invalid withdrawal amount.\")\n",
        "\n",
        "    def get_balance(self):\n",
        "        return self.__balance\n",
        "\n",
        "    def get_account_number(self):\n",
        "        return self.__account_number\n",
        "\n",
        "# Example usage\n",
        "account = BankAccount(\"123456789\", 1000)\n",
        "\n",
        "# Deposit money\n",
        "account.deposit(500)\n",
        "# Withdraw money\n",
        "account.withdraw(200)\n",
        "\n",
        "# Check balance\n",
        "print(f\"Current balance: ${account.get_balance():.2f}\")\n",
        "\n",
        "# Attempt to withdraw more than the balance\n",
        "account.withdraw(1500)"
      ],
      "metadata": {
        "colab": {
          "base_uri": "https://localhost:8080/"
        },
        "id": "lrpE2ZFnfJeZ",
        "outputId": "24c8b820-9e30-4469-fefd-e9132fe3a59d"
      },
      "execution_count": 26,
      "outputs": [
        {
          "output_type": "stream",
          "name": "stdout",
          "text": [
            "Deposited: $500.00. New balance: $1500.00.\n",
            "Withdrew: $200.00. New balance: $1300.00.\n",
            "Current balance: $1300.00\n",
            "Insufficient funds or invalid withdrawal amount.\n"
          ]
        }
      ]
    },
    {
      "cell_type": "markdown",
      "source": [
        "11. Write a class that overrides the `__str__` and `__add__` magic methods. What will these methods allow\n",
        "you to do?\n",
        "\n",
        "---\n",
        "\n"
      ],
      "metadata": {
        "id": "g1ZI0HKlh9pl"
      }
    },
    {
      "cell_type": "code",
      "source": [
        "class Vector:\n",
        "    def __init__(self, x, y):\n",
        "        self.x = x\n",
        "        self.y = y\n",
        "\n",
        "    def __str__(self):\n",
        "        return f\"Vector({self.x}, {self.y})\"\n",
        "\n",
        "    def __add__(self, other):\n",
        "        if isinstance(other, Vector):\n",
        "            return Vector(self.x + other.x, self.y + other.y)\n",
        "        return NotImplemented\n",
        "\n",
        "# Example usage\n",
        "vector1 = Vector(2, 3)\n",
        "vector2 = Vector(4, 5)\n",
        "\n",
        "# Using __str__ method\n",
        "print(vector1)\n",
        "print(vector2)\n",
        "\n",
        "# Using __add__ method\n",
        "vector3 = vector1 + vector2\n",
        "print(vector3)\n"
      ],
      "metadata": {
        "colab": {
          "base_uri": "https://localhost:8080/"
        },
        "id": "HFpRXhAoh05a",
        "outputId": "a49d8424-0bce-45f1-90ea-aed923909bee"
      },
      "execution_count": 27,
      "outputs": [
        {
          "output_type": "stream",
          "name": "stdout",
          "text": [
            "Vector(2, 3)\n",
            "Vector(4, 5)\n",
            "Vector(6, 8)\n"
          ]
        }
      ]
    },
    {
      "cell_type": "markdown",
      "source": [
        "12. Create a decorator that measures and prints the execution time of a function.\n",
        "\n",
        "---\n",
        "\n"
      ],
      "metadata": {
        "id": "vZ-BX0zdianM"
      }
    },
    {
      "cell_type": "code",
      "source": [
        "import time\n",
        "\n",
        "def execution_time_decorator(func):\n",
        "    def wrapper(*args, **kwargs):\n",
        "        start_time = time.time()  # Record the start time\n",
        "        result = func(*args, **kwargs)  # Call the original function\n",
        "        end_time = time.time()  # Record the end time\n",
        "        execution_time = end_time - start_time  # Calculate execution time\n",
        "        print(f\"Execution time for {func.__name__}: {execution_time:.4f} seconds\")\n",
        "        return result  # Return the result of the original function\n",
        "    return wrapper\n",
        "\n",
        "# Example usage\n",
        "@execution_time_decorator\n",
        "def example_function(n):\n",
        "    total = 0\n",
        "    for i in range(n):\n",
        "        total += i\n",
        "    return total\n",
        "\n",
        "# Call the decorated function\n",
        "result = example_function(1000000)\n",
        "print(f\"Result: {result}\")\n"
      ],
      "metadata": {
        "colab": {
          "base_uri": "https://localhost:8080/"
        },
        "id": "lZv7wkk_iUd9",
        "outputId": "524c0b5c-37de-411a-b4f9-7dcfee403696"
      },
      "execution_count": 28,
      "outputs": [
        {
          "output_type": "stream",
          "name": "stdout",
          "text": [
            "Execution time for example_function: 0.0799 seconds\n",
            "Result: 499999500000\n"
          ]
        }
      ]
    },
    {
      "cell_type": "markdown",
      "source": [
        "13. Explain the concept of the Diamond Problem in multiple inheritance. How does Python resolve it?\n",
        "\n",
        "---\n",
        "Diamond Problem in Multiple Inheritance\n",
        "The Diamond Problem occurs in object-oriented programming languages that support multiple inheritance, where a class inherits from two classes that both inherit from a common superclass. This creates a \"diamond\" shape in the class hierarchy. The problem arises when a method or attribute is called on the derived class that is defined in the common superclass, leading to ambiguity about which inherited method or attribute to use.\n",
        "How Python Resolves the Diamond Problem\n",
        "Python uses the C3 Linearization algorithm (also known as C3 superclass linearization) to resolve the Diamond Problem. This algorithm provides a consistent method resolution order (MRO) that determines the order in which base classes are looked up for methods and attributes.\n",
        "\n",
        "How Python Resolves the Diamond Problem\n",
        "Python uses the C3 Linearization algorithm (also known as C3 superclass linearization) to resolve the Diamond Problem. This algorithm provides a consistent method resolution order (MRO) that determines the order in which base classes are looked up for methods and attributes.\n",
        "\n",
        "Key Points of MRO in Python:\n",
        "Left-to-Right Order: The order of inheritance from left to right is preserved.\n",
        "Parent Classes: The parent classes are checked in the order they are defined.\n",
        "No Ambiguity: If a class is inherited from multiple classes, Python ensures that it will only call the method from the first superclass it encounters that has that method."
      ],
      "metadata": {
        "id": "GFggJXHFilGv"
      }
    },
    {
      "cell_type": "code",
      "source": [
        "class A:\n",
        "    def display(self):\n",
        "        print(\"Display from A\")\n",
        "\n",
        "class B(A):\n",
        "    def display(self):\n",
        "        print(\"Display from B\")\n",
        "\n",
        "class C(A):\n",
        "    def display(self):\n",
        "        print(\"Display from C\")\n",
        "\n",
        "class D(B, C):\n",
        "    pass\n",
        "\n",
        "# Create an instance of D\n",
        "d = D()\n",
        "d.display()\n"
      ],
      "metadata": {
        "colab": {
          "base_uri": "https://localhost:8080/"
        },
        "id": "PF5GjYD1ihEK",
        "outputId": "feedd0c7-b57d-4755-edfe-dba0cba766bf"
      },
      "execution_count": 29,
      "outputs": [
        {
          "output_type": "stream",
          "name": "stdout",
          "text": [
            "Display from B\n"
          ]
        }
      ]
    },
    {
      "cell_type": "markdown",
      "source": [
        "14. Write a class method that keeps track of the number of instances created from a class."
      ],
      "metadata": {
        "id": "WCsSAG-9jBZm"
      }
    },
    {
      "cell_type": "code",
      "source": [
        "class InstanceCounter:\n",
        "    # Class attribute to keep track of the number of instances\n",
        "    instance_count = 0\n",
        "\n",
        "    def __init__(self):\n",
        "        # Increment the instance count each time a new instance is created\n",
        "        InstanceCounter.instance_count += 1\n",
        "\n",
        "    @classmethod\n",
        "    def get_instance_count(cls):\n",
        "        # Return the current instance count\n",
        "        return cls.instance_count\n",
        "\n",
        "# Example usage\n",
        "obj1 = InstanceCounter()\n",
        "obj2 = InstanceCounter()\n",
        "obj3 = InstanceCounter()\n",
        "\n",
        "# Retrieve the number of instances created\n",
        "print(f\"Number of instances created: {InstanceCounter.get_instance_count()}\")"
      ],
      "metadata": {
        "colab": {
          "base_uri": "https://localhost:8080/"
        },
        "id": "Y1P7GQSai6nY",
        "outputId": "df671ee9-fd0c-437d-f886-9e39d70a5146"
      },
      "execution_count": 30,
      "outputs": [
        {
          "output_type": "stream",
          "name": "stdout",
          "text": [
            "Number of instances created: 3\n"
          ]
        }
      ]
    },
    {
      "cell_type": "markdown",
      "source": [
        "15. Implement a static method in a class that checks if a given year is a leap year."
      ],
      "metadata": {
        "id": "iCx3KiA-jU2Q"
      }
    },
    {
      "cell_type": "code",
      "source": [
        "class YearUtils:\n",
        "    @staticmethod\n",
        "    def is_leap_year(year):\n",
        "        \"\"\"\n",
        "        Check if the given year is a leap year.\n",
        "        A year is a leap year if:\n",
        "        - It is divisible by 4,\n",
        "        - but not divisible by 100, unless it is also divisible by 400.\n",
        "        \"\"\"\n",
        "        if (year % 4 == 0 and year % 100 != 0) or (year % 400 == 0):\n",
        "            return True\n",
        "        return False\n",
        "\n",
        "# Example usage\n",
        "year = 2024\n",
        "if YearUtils.is_leap_year(year):\n",
        "    print(f\"{year} is a leap year.\")\n",
        "else:\n",
        "    print(f\"{year} is not a leap year.\")\n",
        "\n",
        "year = 1900\n",
        "if YearUtils.is_leap_year(year):\n",
        "    print(f\"{year} is a leap year.\")\n",
        "else:\n",
        "    print(f\"{year} is not a leap year.\")\n"
      ],
      "metadata": {
        "colab": {
          "base_uri": "https://localhost:8080/"
        },
        "id": "rXEysG6UjPLn",
        "outputId": "66fd8b1f-714d-464b-ae6b-e2e3cce19dd2"
      },
      "execution_count": 31,
      "outputs": [
        {
          "output_type": "stream",
          "name": "stdout",
          "text": [
            "2024 is a leap year.\n",
            "1900 is not a leap year.\n"
          ]
        }
      ]
    },
    {
      "cell_type": "code",
      "source": [],
      "metadata": {
        "id": "XFjJl8HGjd7B"
      },
      "execution_count": null,
      "outputs": []
    }
  ]
}